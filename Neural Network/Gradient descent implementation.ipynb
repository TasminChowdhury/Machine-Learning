{
 "cells": [
  {
   "cell_type": "code",
   "execution_count": 17,
   "metadata": {},
   "outputs": [
    {
     "name": "stdout",
     "output_type": "stream",
     "text": [
      "Starting gradient descent at b = 0, m = 0, error = 5565.107834483211\n",
      "Running...\n",
      "After 1000 iterations b = 0.026375857747141976, m = 0.8572772352755874, error = 1075.4176036111865\n"
     ]
    }
   ],
   "source": [
    "from numpy import *\n",
    "\n",
    "def compute_error_for_given_points(b, m, points):\n",
    "    totalError = 0\n",
    "    for i in range(0, len(points)):\n",
    "        x = points[i, 0]\n",
    "        y = points [i,1]\n",
    "        totalError += (y - (m*x + b)) **2\n",
    "    return totalError/float (len(points))\n",
    "        \n",
    "def step_gradient(b_current, m_current, points, learning_rate):\n",
    "    #gradient descent\n",
    "    b_gradient = 0\n",
    "    m_gradient = 0\n",
    "    N = float(len(points))\n",
    "    for i  in range (0, len(points)):\n",
    "        x= points[i, 0]\n",
    "        y=points[i,1]\n",
    "        b_gradient += -(2/N) * (y-((m_current *x) + b_current))\n",
    "        m_gradient += -(2/N) * x * (y-((m_current *x) +b_current))\n",
    "        new_b = b_current - (learning_rate * b_gradient)\n",
    "        new_m = m_current - (learning_rate * m_gradient)\n",
    "        return [new_b, new_m]\n",
    "        \n",
    "\n",
    "def gradient_descent_runner(points, starting_b, starting_m, iteration, learning_rate):\n",
    "    b= starting_b\n",
    "    m=starting_m\n",
    "    \n",
    "    for i in range(iteration):\n",
    "        b, m = step_gradient(b, m, array(points), learning_rate)\n",
    "    return [b,m]\n",
    "\n",
    "def run():\n",
    "    points = genfromtxt('data.csv', delimiter=',')\n",
    "    #hyperparameters ==learning rate/ how fast it learns/ kindof bell curve/\n",
    "    #too low , slow to converge/ too high never converge\n",
    "    learning_rate = 0.0001\n",
    "    initial_b = 0\n",
    "    initial_m = 0\n",
    "    # for small data set, iteration will be 1000/for big data more iteration\n",
    "    num_iterations = 1000\n",
    "    print (\"Starting gradient descent at b = {0}, m = {1}, error = {2}\".format(initial_b, initial_m, compute_error_for_given_points(initial_b, initial_m, points)))\n",
    "    print (\"Running...\")\n",
    "\n",
    "    [b,m] = gradient_descent_runner(points, initial_b,initial_m, num_iterations, learning_rate)\n",
    "    print (\"After {0} iterations b = {1}, m = {2}, error = {3}\".format(num_iterations, b, m, compute_error_for_given_points(b, m, points)))\n",
    "if __name__ == '__main__':\n",
    "    run()   "
   ]
  },
  {
   "cell_type": "code",
   "execution_count": null,
   "metadata": {
    "collapsed": true
   },
   "outputs": [],
   "source": []
  },
  {
   "cell_type": "code",
   "execution_count": null,
   "metadata": {
    "collapsed": true
   },
   "outputs": [],
   "source": []
  }
 ],
 "metadata": {
  "kernelspec": {
   "display_name": "Python 3",
   "language": "python",
   "name": "python3"
  },
  "language_info": {
   "codemirror_mode": {
    "name": "ipython",
    "version": 3
   },
   "file_extension": ".py",
   "mimetype": "text/x-python",
   "name": "python",
   "nbconvert_exporter": "python",
   "pygments_lexer": "ipython3",
   "version": "3.6.0"
  }
 },
 "nbformat": 4,
 "nbformat_minor": 2
}
